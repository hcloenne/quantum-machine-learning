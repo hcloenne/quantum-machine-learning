{
 "cells": [
  {
   "cell_type": "markdown",
   "id": "b19bdc0a",
   "metadata": {},
   "source": [
    "# Quantum Gates"
   ]
  },
  {
   "cell_type": "code",
   "execution_count": 5,
   "id": "9d4af76d",
   "metadata": {},
   "outputs": [],
   "source": [
    "from qiskit import QuantumCircuit, assemble, execute\n",
    "from qiskit.providers.aer import QasmSimulator\n",
    "from qiskit.visualization import array_to_latex\n",
    "\n",
    "import numpy as np"
   ]
  },
  {
   "cell_type": "markdown",
   "id": "918f4dc4",
   "metadata": {},
   "source": [
    "$ \\newcommand{\\ket}[1]{\\left|{#1}\\right\\rangle} $\n",
    "$ \\newcommand{\\bra}[1]{\\left\\langle{#1}\\right|} $\n",
    "\n",
    "In this notebook I will show how we can create quantum gates using ket0 and ket1, which are the two Z-basis (standard basis) states for a one qubit system:\n",
    "\n",
    "$ \\ket 0 = $ $\\begin{bmatrix} 1 \\\\ 0 \\end{bmatrix}$\n",
    "\n",
    "$ \\ket 1 = $ $\\begin{bmatrix} 0 \\\\ 1 \\end{bmatrix}$"
   ]
  },
  {
   "cell_type": "code",
   "execution_count": 6,
   "id": "6dd3c4a2",
   "metadata": {},
   "outputs": [
    {
     "data": {
      "text/latex": [
       "$$\n",
       "\n",
       "\\begin{bmatrix}\n",
       "1  \\\\\n",
       " 0  \\\\\n",
       " \\end{bmatrix}\n",
       "$$"
      ],
      "text/plain": [
       "<IPython.core.display.Latex object>"
      ]
     },
     "execution_count": 6,
     "metadata": {},
     "output_type": "execute_result"
    }
   ],
   "source": [
    "ket0 = np.matrix([[1], \n",
    "                  [0]])\n",
    "\n",
    "ket1 =  np.matrix([[0], \n",
    "                  [1]])\n",
    "\n",
    "array_to_latex(ket0)"
   ]
  },
  {
   "cell_type": "markdown",
   "id": "8717e611",
   "metadata": {},
   "source": [
    "## Unary Quantum Gates\n",
    "\n",
    "$ \\newcommand{\\ket}[1]{\\left|{#1}\\right\\rangle} $\n",
    "$ \\newcommand{\\bra}[1]{\\left\\langle{#1}\\right|} $\n",
    "\n",
    "A linear operator $ U:\\mathcal{H}^{\\bigotimes n} \\to \\mathcal{H}^{\\bigotimes n}  $ is called unitary if\n",
    "\n",
    "$  \\bra{U\\phi} {U\\psi \\rangle} = \\bra{\\phi} {\\psi \\rangle} $\n",
    "\n",
    "for all $ \\ket \\phi , \\ket \\psi \\in \\mathcal{H}^{\\bigotimes n} $\n",
    "\n",
    "Normally U is represented by a $ 2^n \\times 2^n $ complex matrix and U is called a unitary matrix.\n",
    "\n",
    "A unary quantum gate is a unitary operator\n",
    "\n",
    "$ U:\\mathcal{H} \\to \\mathcal{H} $\n",
    "\n",
    "and can be represented by a unitary $ 2 \\times 2 $ matrix.\n",
    "\n",
    "\n",
    "## Identity (I-gate)\n",
    "\n",
    "I-gate = $ \\begin{bmatrix} 1 & 0 \\\\ 0 & 1 \\end{bmatrix} $\n",
    "\n",
    "The identity gate does nothing and leaves the qubit unchanged. It is often used in a circuits when we want to perform operations on some qubits while ensuring others are left unchanged.\n",
    "\n",
    "## Pauli Gates\n",
    "\n",
    "The three Pauli gates are the X-gate (also called NOT-gate), Y-gate and Z-gate:\n",
    "\n",
    "X-gate = $ \\begin{bmatrix} 0 & 1 \\\\ 1 & 0 \\end{bmatrix} $\n",
    "\n",
    "Y-gate = $ \\begin{bmatrix} 0 & -i \\\\ i & 0 \\end{bmatrix} $\n",
    "\n",
    "Z-gate = $ \\begin{bmatrix} 1 & 0 \\\\ 0 & -1 \\end{bmatrix} $ <br><br>\n",
    "\n",
    "\n",
    "The X-gate rotates the qubit $ \\pi $ radians around the x-axis in the Bloch sphere. The X-gate is often called the \"bit-flip\"-gate because it will flip $ \\ket 0 $ to $ \\ket 1 $ and $ \\ket 1 $ to $ \\ket 0 $:\n",
    "\n",
    "$ X\\ket 0 = \\begin{bmatrix} 0 & 1 \\\\ 1 & 0 \\end{bmatrix} \n",
    "            \\begin{bmatrix} 1 \\\\ 0 \\end{bmatrix} = \n",
    "            \\begin{bmatrix} 0 \\\\ 1 \\end{bmatrix} = \\ket 1 $\n",
    "            \n",
    "$ X\\ket 1 = \\begin{bmatrix} 0 & 1 \\\\ 1 & 0 \\end{bmatrix} \n",
    "            \\begin{bmatrix} 0 \\\\ 1 \\end{bmatrix} = \n",
    "            \\begin{bmatrix} 1 \\\\ 0 \\end{bmatrix} = \\ket 0 $\n",
    "            \n",
    "\n",
    "The Z-gate rotates the qubit $ \\pi $ radians around the z-axis. It is sometimes called the \"phase-flip\"-gate as it introduces a phase flip between the $ \\ket 0 $ and $ \\ket 1 $ states. It will flip $ \\ket + $ to $ \\ket - $ and $ \\ket - $ to $ \\ket + $:\n",
    "\n",
    "$ Z\\ket + = \\begin{bmatrix} 1 & 0 \\\\ 0 & -1 \\end{bmatrix} \n",
    "            \\frac{1}{\\sqrt 2} \\begin{bmatrix} 1 \\\\ 1 \\end{bmatrix} = \n",
    "            \\frac{1}{\\sqrt 2} \\begin{bmatrix} 1 \\\\ -1 \\end{bmatrix} = \\ket - $\n",
    "            \n",
    "$ Z\\ket - = \\begin{bmatrix} 1 & 0 \\\\ 0 & -1 \\end{bmatrix} \n",
    "            \\frac{1}{\\sqrt 2} \\begin{bmatrix} 1 \\\\ -1 \\end{bmatrix} = \n",
    "            \\frac{1}{\\sqrt 2} \\begin{bmatrix} 1 \\\\ 1 \\end{bmatrix} = \\ket + $\n",
    "            \n",
    "            \n",
    "The Y-gate rotates the qubit $ \\pi $ radians around the y-axis. It is sometimes called the \"bit and phase flip\"-gate because it combines both a bit flip operation and a phase flip operation. This will **not** flip $ \\ket L $ to $ \\ket R $ and visa versa like the X- and Z-gate flips $ \\ket 0 $ to $ \\ket 1 $, $ \\ket + $ to $ \\ket - $ etc. Looking at the effect of the Y-gate on $ \\ket 0 $ and $ \\ket 1 $:\n",
    "\n",
    "$ Y\\ket 0 = \\begin{bmatrix} 0 & -i \\\\ i & 0 \\end{bmatrix} \n",
    "            \\begin{bmatrix} 1 \\\\ 0 \\end{bmatrix} = \n",
    "            \\begin{bmatrix} 0 \\\\ i \\end{bmatrix} = i\\ket 1 $\n",
    "            \n",
    "            \n",
    "$ Y\\ket 1 = \\begin{bmatrix} 0 & -i \\\\ i & 0 \\end{bmatrix} \n",
    "            \\begin{bmatrix} 0 \\\\ 1 \\end{bmatrix} = \n",
    "            \\begin{bmatrix} -i \\\\ 0 \\end{bmatrix} = -i\\ket 0 $\n",
    "            \n",
    "            \n",
    "Here we can see both the bit flip and the phase flip in effect.\n",
    "\n",
    "\n",
    "## Hadamard Gate (H-gate)\n",
    "\n",
    "XHadamard-gate = $ \\frac{1}{\\sqrt 2} \\begin{bmatrix} 1 & 1 \\\\ 1 & -1 \\end{bmatrix} $\n",
    "\n",
    "\n",
    "The Hadamard gate operates on a single qubit and turns the state $ \\ket 0 $ or $ \\ket 1 $ into a superposition of $ \\ket 0 $ and $ \\ket 1 $:\n",
    "\n",
    "$ H\\ket 0 = \\frac{1}{\\sqrt 2} \\begin{bmatrix} 1 & 1 \\\\ 1 & -1 \\end{bmatrix} \n",
    "            \\begin{bmatrix} 1 \\\\ 0 \\end{bmatrix} = \n",
    "            \\frac{1}{\\sqrt 2} \\begin{bmatrix} 1 \\\\ 1 \\end{bmatrix} = \\ket + $\n",
    "            \n",
    "$ H\\ket 1 = \\frac{1}{\\sqrt 2} \\begin{bmatrix} 1 & 1 \\\\ 1 & -1 \\end{bmatrix} \n",
    "            \\begin{bmatrix} 0 \\\\ 1 \\end{bmatrix} = \n",
    "            \\frac{1}{\\sqrt 2} \\begin{bmatrix} 1 \\\\ -1 \\end{bmatrix} = \\ket - $\n",
    "            \n",
    "The Hadamard gate will also turn $ \\ket + $ to $ \\ket 0 $ and $ \\ket - $ to $ \\ket 1 $\n",
    "\n",
    "$ H\\ket + = \\frac{1}{\\sqrt 2} \\begin{bmatrix} 1 & 1 \\\\ 1 & -1 \\end{bmatrix} \n",
    "            \\frac{1}{\\sqrt 2} \\begin{bmatrix} 1 \\\\ 1 \\end{bmatrix} = \n",
    "            \\frac{1}{2} \\begin{bmatrix} 2 \\\\ 0 \\end{bmatrix} = \\ket 0 $\n",
    "            \n",
    "$ H\\ket - = \\frac{1}{\\sqrt 2} \\begin{bmatrix} 1 & 1 \\\\ 1 & -1 \\end{bmatrix} \n",
    "            \\frac{1}{\\sqrt 2} \\begin{bmatrix} 1 \\\\ -1 \\end{bmatrix} = \n",
    "            \\frac{1}{2} \\begin{bmatrix} 0 \\\\ 2 \\end{bmatrix} = \\ket 1 $\n",
    "            \n",
    "            \n",
    "## T and S-Gate\n",
    "\n",
    "T- and S-gate are phase shift gates. They shift the phase of a qubit $ \\frac{\\pi}{4} $ and $ \\frac{\\pi}{2} $ respectively. \n",
    "\n",
    "T-gate = $ \\begin{bmatrix} 1 & 0 \\\\ 0 & e^{i\\pi / 4} \\end{bmatrix} $\n",
    "\n",
    "S-gate = $ \\begin{bmatrix} 1 & 0 \\\\ 0 & e^{i\\pi / 2} \\end{bmatrix} $"
   ]
  },
  {
   "cell_type": "markdown",
   "id": "fbc4db83",
   "metadata": {},
   "source": []
  }
 ],
 "metadata": {
  "kernelspec": {
   "display_name": "Python 3 (ipykernel)",
   "language": "python",
   "name": "python3"
  },
  "language_info": {
   "codemirror_mode": {
    "name": "ipython",
    "version": 3
   },
   "file_extension": ".py",
   "mimetype": "text/x-python",
   "name": "python",
   "nbconvert_exporter": "python",
   "pygments_lexer": "ipython3",
   "version": "3.9.17"
  }
 },
 "nbformat": 4,
 "nbformat_minor": 5
}
