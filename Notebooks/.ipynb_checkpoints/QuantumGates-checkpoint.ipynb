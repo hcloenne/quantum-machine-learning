{
 "cells": [
  {
   "cell_type": "markdown",
   "id": "b8bc8be7",
   "metadata": {},
   "source": [
    "# Quantum Gates"
   ]
  },
  {
   "cell_type": "code",
   "execution_count": 1,
   "id": "b5d7b39c",
   "metadata": {},
   "outputs": [],
   "source": [
    "from qiskit import QuantumCircuit, assemble, execute\n",
    "from qiskit.providers.aer import QasmSimulator\n",
    "from qiskit.visualization import array_to_latex\n",
    "import math\n",
    "\n",
    "import numpy as np"
   ]
  },
  {
   "cell_type": "markdown",
   "id": "ee4eea5c",
   "metadata": {},
   "source": [
    "$ \\newcommand{\\ket}[1]{\\left|{#1}\\right\\rangle} $\n",
    "$ \\newcommand{\\bra}[1]{\\left\\langle{#1}\\right|} $\n",
    "\n",
    "In this notebook I will show how we can create quantum gates using ket0 and ket1, which are the two Z-basis (standard basis) states for a one qubit system:\n",
    "\n",
    "$ \\ket 0 = $ $\\begin{bmatrix} 1 \\\\ 0 \\end{bmatrix}$\n",
    "\n",
    "$ \\ket 1 = $ $\\begin{bmatrix} 0 \\\\ 1 \\end{bmatrix}$"
   ]
  },
  {
   "cell_type": "code",
   "execution_count": 2,
   "id": "40776828",
   "metadata": {},
   "outputs": [
    {
     "data": {
      "text/latex": [
       "$$\n",
       "\n",
       "\\begin{bmatrix}\n",
       "1  \\\\\n",
       " 0  \\\\\n",
       " \\end{bmatrix}\n",
       "$$"
      ],
      "text/plain": [
       "<IPython.core.display.Latex object>"
      ]
     },
     "execution_count": 2,
     "metadata": {},
     "output_type": "execute_result"
    }
   ],
   "source": [
    "ket0 = np.matrix([[1], \n",
    "                  [0]])\n",
    "\n",
    "ket1 =  np.matrix([[0], \n",
    "                  [1]])\n",
    "\n",
    "array_to_latex(ket0)"
   ]
  },
  {
   "cell_type": "markdown",
   "id": "af7a44d5",
   "metadata": {},
   "source": [
    "## Unary Quantum Gates\n",
    "\n",
    "$ \\newcommand{\\ket}[1]{\\left|{#1}\\right\\rangle} $\n",
    "$ \\newcommand{\\bra}[1]{\\left\\langle{#1}\\right|} $\n",
    "\n",
    "A linear operator $ U:\\mathcal{H}^{\\bigotimes n} \\to \\mathcal{H}^{\\bigotimes n}  $ is called unitary if\n",
    "\n",
    "$  \\bra{U\\phi} {U\\psi \\rangle} = \\bra{\\phi} {\\psi \\rangle} $\n",
    "\n",
    "for all $ \\ket \\phi , \\ket \\psi \\in \\mathcal{H}^{\\bigotimes n} $\n",
    "\n",
    "Normally U is represented by a $ 2^n \\times 2^n $ complex matrix and U is called a unitary matrix.\n",
    "\n",
    "A unary quantum gate is a unitary operator\n",
    "\n",
    "$ U:\\mathcal{H} \\to \\mathcal{H} $\n",
    "\n",
    "and can be represented by a unitary $ 2 \\times 2 $ matrix.\n",
    "\n",
    "\n",
    "## Identity (I-gate)\n",
    "\n",
    "I-gate = $ \\begin{bmatrix} 1 & 0 \\\\ 0 & 1 \\end{bmatrix} $\n",
    "\n",
    "The identity gate does nothing and leaves the qubit unchanged. It is often used in a circuits when we want to perform operations on some qubits while ensuring others are left unchanged.\n",
    "\n",
    "## Pauli Gates\n",
    "\n",
    "The three Pauli gates are the X-gate (also called NOT-gate), Y-gate and Z-gate:\n",
    "\n",
    "X-gate = $ \\begin{bmatrix} 0 & 1 \\\\ 1 & 0 \\end{bmatrix} $\n",
    "\n",
    "Y-gate = $ \\begin{bmatrix} 0 & -i \\\\ i & 0 \\end{bmatrix} $\n",
    "\n",
    "Z-gate = $ \\begin{bmatrix} 1 & 0 \\\\ 0 & -1 \\end{bmatrix} $ <br><br>\n",
    "\n",
    "\n",
    "The X-gate rotates the qubit $ \\pi $ radians around the x-axis in the Bloch sphere. The X-gate is often called the \"bit-flip\"-gate because it will flip $ \\ket 0 $ to $ \\ket 1 $ and $ \\ket 1 $ to $ \\ket 0 $:\n",
    "\n",
    "$ X\\ket 0 = \\begin{bmatrix} 0 & 1 \\\\ 1 & 0 \\end{bmatrix} \n",
    "            \\begin{bmatrix} 1 \\\\ 0 \\end{bmatrix} = \n",
    "            \\begin{bmatrix} 0 \\\\ 1 \\end{bmatrix} = \\ket 1 $\n",
    "            \n",
    "$ X\\ket 1 = \\begin{bmatrix} 0 & 1 \\\\ 1 & 0 \\end{bmatrix} \n",
    "            \\begin{bmatrix} 0 \\\\ 1 \\end{bmatrix} = \n",
    "            \\begin{bmatrix} 1 \\\\ 0 \\end{bmatrix} = \\ket 0 $\n",
    "            \n",
    "\n",
    "The Z-gate rotates the qubit $ \\pi $ radians around the z-axis. It is sometimes called the \"phase-flip\"-gate as it introduces a phase flip between the $ \\ket 0 $ and $ \\ket 1 $ states. It will flip $ \\ket + $ to $ \\ket - $ and $ \\ket - $ to $ \\ket + $:\n",
    "\n",
    "$ Z\\ket + = \\begin{bmatrix} 1 & 0 \\\\ 0 & -1 \\end{bmatrix} \n",
    "            \\frac{1}{\\sqrt 2} \\begin{bmatrix} 1 \\\\ 1 \\end{bmatrix} = \n",
    "            \\frac{1}{\\sqrt 2} \\begin{bmatrix} 1 \\\\ -1 \\end{bmatrix} = \\ket - $\n",
    "            \n",
    "$ Z\\ket - = \\begin{bmatrix} 1 & 0 \\\\ 0 & -1 \\end{bmatrix} \n",
    "            \\frac{1}{\\sqrt 2} \\begin{bmatrix} 1 \\\\ -1 \\end{bmatrix} = \n",
    "            \\frac{1}{\\sqrt 2} \\begin{bmatrix} 1 \\\\ 1 \\end{bmatrix} = \\ket + $\n",
    "            \n",
    "            \n",
    "The Y-gate rotates the qubit $ \\pi $ radians around the y-axis. It is sometimes called the \"bit and phase flip\"-gate because it combines both a bit flip operation and a phase flip operation. This will **not** flip $ \\ket L $ to $ \\ket R $ and visa versa like the X- and Z-gate flips $ \\ket 0 $ to $ \\ket 1 $, $ \\ket + $ to $ \\ket - $ etc. Looking at the effect of the Y-gate on $ \\ket 0 $ and $ \\ket 1 $:\n",
    "\n",
    "$ Y\\ket 0 = \\begin{bmatrix} 0 & -i \\\\ i & 0 \\end{bmatrix} \n",
    "            \\begin{bmatrix} 1 \\\\ 0 \\end{bmatrix} = \n",
    "            \\begin{bmatrix} 0 \\\\ i \\end{bmatrix} = i\\ket 1 $\n",
    "            \n",
    "            \n",
    "$ Y\\ket 1 = \\begin{bmatrix} 0 & -i \\\\ i & 0 \\end{bmatrix} \n",
    "            \\begin{bmatrix} 0 \\\\ 1 \\end{bmatrix} = \n",
    "            \\begin{bmatrix} -i \\\\ 0 \\end{bmatrix} = -i\\ket 0 $\n",
    "            \n",
    "            \n",
    "Here we can see both the bit flip and the phase flip in effect.\n",
    "\n",
    "\n",
    "## Hadamard Gate (H-gate)\n",
    "\n",
    "XHadamard-gate = $ \\frac{1}{\\sqrt 2} \\begin{bmatrix} 1 & 1 \\\\ 1 & -1 \\end{bmatrix} $\n",
    "\n",
    "\n",
    "The Hadamard gate operates on a single qubit and turns the state $ \\ket 0 $ or $ \\ket 1 $ into a superposition of $ \\ket 0 $ and $ \\ket 1 $:\n",
    "\n",
    "$ H\\ket 0 = \\frac{1}{\\sqrt 2} \\begin{bmatrix} 1 & 1 \\\\ 1 & -1 \\end{bmatrix} \n",
    "            \\begin{bmatrix} 1 \\\\ 0 \\end{bmatrix} = \n",
    "            \\frac{1}{\\sqrt 2} \\begin{bmatrix} 1 \\\\ 1 \\end{bmatrix} = \\ket + $\n",
    "            \n",
    "$ H\\ket 1 = \\frac{1}{\\sqrt 2} \\begin{bmatrix} 1 & 1 \\\\ 1 & -1 \\end{bmatrix} \n",
    "            \\begin{bmatrix} 0 \\\\ 1 \\end{bmatrix} = \n",
    "            \\frac{1}{\\sqrt 2} \\begin{bmatrix} 1 \\\\ -1 \\end{bmatrix} = \\ket - $\n",
    "            \n",
    "The Hadamard gate will also turn $ \\ket + $ to $ \\ket 0 $ and $ \\ket - $ to $ \\ket 1 $\n",
    "\n",
    "$ H\\ket + = \\frac{1}{\\sqrt 2} \\begin{bmatrix} 1 & 1 \\\\ 1 & -1 \\end{bmatrix} \n",
    "            \\frac{1}{\\sqrt 2} \\begin{bmatrix} 1 \\\\ 1 \\end{bmatrix} = \n",
    "            \\frac{1}{2} \\begin{bmatrix} 2 \\\\ 0 \\end{bmatrix} = \\ket 0 $\n",
    "            \n",
    "$ H\\ket - = \\frac{1}{\\sqrt 2} \\begin{bmatrix} 1 & 1 \\\\ 1 & -1 \\end{bmatrix} \n",
    "            \\frac{1}{\\sqrt 2} \\begin{bmatrix} 1 \\\\ -1 \\end{bmatrix} = \n",
    "            \\frac{1}{2} \\begin{bmatrix} 0 \\\\ 2 \\end{bmatrix} = \\ket 1 $\n",
    "            \n",
    "            \n",
    "## T and S-Gate\n",
    "\n",
    "T- and S-gate are phase shift gates. They shift the phase of a qubit $ \\frac{\\pi}{4} $ and $ \\frac{\\pi}{2} $ respectively. \n",
    "\n",
    "T-gate = $ \\begin{bmatrix} 1 & 0 \\\\ 0 & e^{i\\pi / 4} \\end{bmatrix} $\n",
    "\n",
    "S-gate = $ \\begin{bmatrix} 1 & 0 \\\\ 0 & e^{i\\pi / 2} \\end{bmatrix} $"
   ]
  },
  {
   "cell_type": "code",
   "execution_count": 3,
   "id": "4f0e56e6",
   "metadata": {},
   "outputs": [],
   "source": [
    "def Xgate():\n",
    "    return np.outer(ket0, ket1.getH()) + np.outer(ket1, ket0.getH())\n",
    "\n",
    "def Ygate():\n",
    "    return np.complex64(-1j*(np.outer(ket0, ket1.getH())) + 1j*(np.outer(ket1, ket0.getH())))\n",
    "\n",
    "def Zgate():\n",
    "    return np.outer(ket0, ket0.getH()) - np.outer(ket1, ket1.getH())\n",
    "\n",
    "def Hadamard():\n",
    "    return (1/np.sqrt(2))* (\n",
    "           np.outer(ket0, ket0.getH()) + np.outer(ket0, ket1.getH())\n",
    "         + np.outer(ket1, ket0.getH()) - np.outer(ket1, ket1.getH()))\n"
   ]
  },
  {
   "cell_type": "code",
   "execution_count": 4,
   "id": "a1793ac0",
   "metadata": {},
   "outputs": [
    {
     "data": {
      "text/latex": [
       "$$\n",
       "\n",
       "\\begin{bmatrix}\n",
       "0 & 1  \\\\\n",
       " 1 & 0  \\\\\n",
       " \\end{bmatrix}\n",
       "$$"
      ],
      "text/plain": [
       "<IPython.core.display.Latex object>"
      ]
     },
     "execution_count": 4,
     "metadata": {},
     "output_type": "execute_result"
    }
   ],
   "source": [
    "# X-gate\n",
    "array_to_latex(Xgate())"
   ]
  },
  {
   "cell_type": "code",
   "execution_count": 5,
   "id": "28d3ffe7",
   "metadata": {},
   "outputs": [
    {
     "data": {
      "text/latex": [
       "$$\n",
       "\n",
       "\\begin{bmatrix}\n",
       "0 & - i  \\\\\n",
       " i & 0  \\\\\n",
       " \\end{bmatrix}\n",
       "$$"
      ],
      "text/plain": [
       "<IPython.core.display.Latex object>"
      ]
     },
     "execution_count": 5,
     "metadata": {},
     "output_type": "execute_result"
    }
   ],
   "source": [
    "# Y-gate\n",
    "array_to_latex(Ygate())"
   ]
  },
  {
   "cell_type": "code",
   "execution_count": 6,
   "id": "776d8d94",
   "metadata": {},
   "outputs": [
    {
     "data": {
      "text/latex": [
       "$$\n",
       "\n",
       "\\begin{bmatrix}\n",
       "1 & 0  \\\\\n",
       " 0 & -1  \\\\\n",
       " \\end{bmatrix}\n",
       "$$"
      ],
      "text/plain": [
       "<IPython.core.display.Latex object>"
      ]
     },
     "execution_count": 6,
     "metadata": {},
     "output_type": "execute_result"
    }
   ],
   "source": [
    "# Z-gate\n",
    "array_to_latex(Zgate())"
   ]
  },
  {
   "cell_type": "code",
   "execution_count": 7,
   "id": "2603b9a7",
   "metadata": {},
   "outputs": [
    {
     "data": {
      "text/latex": [
       "$$\n",
       "\n",
       "\\begin{bmatrix}\n",
       "\\frac{\\sqrt{2}}{2} & \\frac{\\sqrt{2}}{2}  \\\\\n",
       " \\frac{\\sqrt{2}}{2} & - \\frac{\\sqrt{2}}{2}  \\\\\n",
       " \\end{bmatrix}\n",
       "$$"
      ],
      "text/plain": [
       "<IPython.core.display.Latex object>"
      ]
     },
     "execution_count": 7,
     "metadata": {},
     "output_type": "execute_result"
    }
   ],
   "source": [
    "# Hadamard-gate\n",
    "array_to_latex(Hadamard())"
   ]
  },
  {
   "cell_type": "markdown",
   "id": "897aa136",
   "metadata": {},
   "source": [
    "## Binary Quantum Gates\n",
    "\n",
    "Binary quantum gate can be represented as a unitary 4x4 matrix. Some important binary gates are:\n",
    "\n",
    "CX-gate = $ \\begin{bmatrix} 1 & 0 & 0 & 0 \\\\ \n",
    "                            0 & 1 & 0 & 0 \\\\\n",
    "                            0 & 0 & 0 & 1 \\\\\n",
    "                            0 & 0 & 1 & 0 \\end{bmatrix} $\n",
    "\n",
    "CY-gate = $ \\begin{bmatrix} 1 & 0 & 0 & 0 \\\\ \n",
    "                            0 & 1 & 0 & 0 \\\\ \n",
    "                            0 & 0 & 0 & -i \\\\\n",
    "                            0 & 0 & i & 0 \\end{bmatrix} $\n",
    "                            \n",
    "CZ-gate = $ \\begin{bmatrix} 1 & 0 & 0 & 0 \\\\ \n",
    "                            0 & 1 & 0 & 0 \\\\\n",
    "                            0 & 0 & 1 & 0 \\\\\n",
    "                            0 & 0 & 0 & -1 \\end{bmatrix} $\n",
    "                            \n",
    "CU-gate = $ \\begin{bmatrix} 1 & 0 & 0 & 0 \\\\ \n",
    "                            0 & 1 & 0 & 0 \\\\\n",
    "                            0 & 0 & u_1 & u_2 \\\\\n",
    "                            0 & 0 & u_3 & u_4 \\end{bmatrix} $\n",
    "\n",
    "Swap-gate = $ \\begin{bmatrix} 1 & 0 & 0 & 0 \\\\ \n",
    "                              0 & 0 & 1 & 0 \\\\\n",
    "                              0 & 1 & 0 & 0 \\\\\n",
    "                              0 & 0 & 0 & 1 \\end{bmatrix} $\n",
    "                              \n",
    "                              \n",
    "A control gate operates on two or more qubits (two for the binary quantum gates, but we can extend the gates to n-ary gates). For the binary control gates the first qubit acts as the control qubit and the second qubit is the target qubit. For any CU-gate the state of the control qubit determines if U is applied to the target qubit. If the control qubit is in the state $ \\ket0 $, then nothing happens. If the control qubit is in the state $ \\ket1 $, then U is applied to the target qubit. It is important to note that the control qubit may change aswell. \n",
    "\n",
    "CU-gate are the general version of the control-gates. We can use any unary gate U, where\n",
    "\n",
    "U = $ \\begin{bmatrix} u_1 & u_2 \\\\ u_3 & u_4 \\end{bmatrix} $\n",
    "\n",
    "\n",
    "If we want to reverse the order of the control and target qubit, we can use the reverse-CU-gate. This can be constructed by $ Swap * CU * Swap $. For example the CX-gate can will be:\n",
    "\n",
    "CX-reverse = $ \\begin{bmatrix}  1 & 0 & 0 & 0 \\\\ \n",
    "                                0 & 0 & 1 & 0 \\\\\n",
    "                                0 & 1 & 0 & 0 \\\\\n",
    "                                0 & 0 & 0 & 1 \\end{bmatrix}\n",
    "               \\begin{bmatrix}  1 & 0 & 0 & 0 \\\\ \n",
    "                                0 & 1 & 0 & 0 \\\\\n",
    "                                0 & 0 & 0 & 1 \\\\\n",
    "                                0 & 0 & 1 & 0 \\end{bmatrix}                \n",
    "               \\begin{bmatrix}  1 & 0 & 0 & 0 \\\\ \n",
    "                                0 & 0 & 1 & 0 \\\\\n",
    "                                0 & 1 & 0 & 0 \\\\\n",
    "                                0 & 0 & 0 & 1 \\end{bmatrix} =               \n",
    "               \\begin{bmatrix}  1 & 0 & 0 & 0 \\\\ \n",
    "                                0 & 0 & 0 & 1 \\\\\n",
    "                                0 & 0 & 1 & 0 \\\\\n",
    "                                0 & 1 & 0 & 0 \\end{bmatrix} $\n",
    "                              \n",
    "                              \n",
    "More generally we have that:\n",
    "\n",
    "CX-reverse = $ \\begin{bmatrix}  1 & 0 & 0 & 0 \\\\ \n",
    "                                0 & 0 & 1 & 0 \\\\\n",
    "                                0 & 1 & 0 & 0 \\\\\n",
    "                                0 & 0 & 0 & 1 \\end{bmatrix}\n",
    "               \\begin{bmatrix}  1 & 0 & 0 & 0 \\\\ \n",
    "                                0 & 1 & 0 & 0 \\\\\n",
    "                                0 & 0 & u_1 & u_2 \\\\\n",
    "                                0 & 0 & u_3 & u_4 \\end{bmatrix} \n",
    "               \\begin{bmatrix}  1 & 0 & 0 & 0 \\\\ \n",
    "                                0 & 0 & 1 & 0 \\\\\n",
    "                                0 & 1 & 0 & 0 \\\\\n",
    "                                0 & 0 & 0 & 1 \\end{bmatrix} =    \n",
    "               \\begin{bmatrix}  1 & 0 & 0 & 0 \\\\ \n",
    "                                0 & u_1 & 0 & u_2 \\\\\n",
    "                                0 & 0 & 1 & 0 \\\\\n",
    "                                0 & u_3 & 0 & u_4 \\end{bmatrix} $"
   ]
  },
  {
   "cell_type": "markdown",
   "id": "c9541a33",
   "metadata": {},
   "source": [
    "## Creating CU-gates"
   ]
  },
  {
   "cell_type": "code",
   "execution_count": 8,
   "id": "a6be1e9d",
   "metadata": {},
   "outputs": [],
   "source": [
    "def CUgate(U):\n",
    "    \"\"\"\n",
    "    Input: 2x2 unary matrix\n",
    "    Return: CU-gate (4x4 matrix)\n",
    "    \"\"\"\n",
    "    \n",
    "    I = np.eye(2)\n",
    "    return np.kron(np.outer(ket0, ket0.getH()), I) + np.kron(np.outer(ket1, ket1.getH()), U)\n",
    "\n",
    "def Swapgate():\n",
    "    basis0 = np.kron(ket0, ket0)\n",
    "    basis1 = np.kron(ket0, ket1)\n",
    "    basis2 = np.kron(ket1, ket0)\n",
    "    basis3 = np.kron(ket1, ket1)\n",
    "    \n",
    "    return np.outer(basis0, basis0.getH()) + np.outer(basis3, basis3.getH()) + np.outer(basis1, basis2.getH()) + np.outer(basis2, basis1.getH())\n",
    "\n",
    "def ReverseCUgate(CU):\n",
    "    return np.matmul(np.matmul(Swapgate(), CU), Swapgate())"
   ]
  },
  {
   "cell_type": "code",
   "execution_count": 9,
   "id": "55a94fd1",
   "metadata": {},
   "outputs": [
    {
     "data": {
      "text/latex": [
       "$$\n",
       "\n",
       "\\begin{bmatrix}\n",
       "1 & 0 & 0 & 0  \\\\\n",
       " 0 & 0 & 1 & 0  \\\\\n",
       " 0 & 1 & 0 & 0  \\\\\n",
       " 0 & 0 & 0 & 1  \\\\\n",
       " \\end{bmatrix}\n",
       "$$"
      ],
      "text/plain": [
       "<IPython.core.display.Latex object>"
      ]
     },
     "execution_count": 9,
     "metadata": {},
     "output_type": "execute_result"
    }
   ],
   "source": [
    "# Swap-gate\n",
    "array_to_latex(Swapgate())"
   ]
  },
  {
   "cell_type": "code",
   "execution_count": 10,
   "id": "e4fae34d",
   "metadata": {},
   "outputs": [
    {
     "data": {
      "text/latex": [
       "$$\n",
       "\n",
       "\\begin{bmatrix}\n",
       "1 & 0 & 0 & 0  \\\\\n",
       " 0 & 1 & 0 & 0  \\\\\n",
       " 0 & 0 & 0 & 1  \\\\\n",
       " 0 & 0 & 1 & 0  \\\\\n",
       " \\end{bmatrix}\n",
       "$$"
      ],
      "text/plain": [
       "<IPython.core.display.Latex object>"
      ]
     },
     "execution_count": 10,
     "metadata": {},
     "output_type": "execute_result"
    }
   ],
   "source": [
    "# CX-gate\n",
    "array_to_latex(CUgate(Xgate()))"
   ]
  },
  {
   "cell_type": "code",
   "execution_count": 11,
   "id": "163e9904",
   "metadata": {},
   "outputs": [
    {
     "data": {
      "text/latex": [
       "$$\n",
       "\n",
       "\\begin{bmatrix}\n",
       "1 & 0 & 0 & 0  \\\\\n",
       " 0 & 0 & 0 & 1  \\\\\n",
       " 0 & 0 & 1 & 0  \\\\\n",
       " 0 & 1 & 0 & 0  \\\\\n",
       " \\end{bmatrix}\n",
       "$$"
      ],
      "text/plain": [
       "<IPython.core.display.Latex object>"
      ]
     },
     "execution_count": 11,
     "metadata": {},
     "output_type": "execute_result"
    }
   ],
   "source": [
    "# CX-reverse\n",
    "array_to_latex(ReverseCUgate(CUgate(Xgate())))"
   ]
  },
  {
   "cell_type": "markdown",
   "id": "01000a80",
   "metadata": {},
   "source": [
    "## Bell States\n",
    "\n",
    "There are four Bell states and they are all entangled. Entangled means that they cannot be decomposed into a tensor product of two single qubit states. Instead a Bell state is a combined pure state that describe both qubits together. The four Bell states create a orthonormal basis in $ \\mathcal{H}^{\\bigotimes 2} $ \n",
    "\n",
    "$ \\ket{\\Phi^+} := \\frac{1}{\\sqrt 2} (\\ket{00} + \\ket{11}) $\n",
    "\n",
    "$ \\ket{\\Phi^-} := \\frac{1}{\\sqrt 2} (\\ket{00} - \\ket{11}) $\n",
    "\n",
    "$ \\ket{\\Psi^+} := \\frac{1}{\\sqrt 2} (\\ket{01} + \\ket{10}) $\n",
    "\n",
    "$ \\ket{\\Psi^-} := \\frac{1}{\\sqrt 2} (\\ket{01} - \\ket{10}) $\n",
    "\n",
    "\n",
    "## Implementing the Bell States\n",
    "\n",
    "Starting with a two qubit system where both qubits are in the state $ \\ket0 $, we can apply quantum gates to get the Bell states. To visualize what we do we can create a quantum circuit that describe the operations we do. Here I will use qiskit to create the circuits."
   ]
  },
  {
   "cell_type": "code",
   "execution_count": 12,
   "id": "eb84fe97",
   "metadata": {},
   "outputs": [],
   "source": [
    "# Helper function to apply the circuit to the system\n",
    "def GetStateVector(qc):\n",
    "\n",
    "    #Save the state vector\n",
    "    qc.save_statevector()\n",
    "\n",
    "    #Execute & get result\n",
    "    job = execute(qc, backend)\n",
    "    job_result = job.result()\n",
    "\n",
    "    #Return state vector\n",
    "    return job_result.get_statevector(qc)"
   ]
  },
  {
   "cell_type": "markdown",
   "id": "c2e0eb4f",
   "metadata": {},
   "source": [
    "## $ \\ket{\\Phi^+} $"
   ]
  },
  {
   "cell_type": "code",
   "execution_count": 13,
   "id": "e239cd77",
   "metadata": {},
   "outputs": [
    {
     "data": {
      "image/png": "[encoded data removed]",
      "text/plain": [
       "<Figure size 287.294x200.667 with 1 Axes>"
      ]
     },
     "execution_count": 13,
     "metadata": {},
     "output_type": "execute_result"
    }
   ],
   "source": [
    "#Get backend\n",
    "backend = QasmSimulator()\n",
    "\n",
    "# Create a QuantumCircuit with 2 qubits\n",
    "qc = QuantumCircuit(2)\n",
    "\n",
    "# Apply Quantum Gates\n",
    "qc.h(1)\n",
    "qc.cx(1, 0)\n",
    "\n",
    "#Display circuit\n",
    "qc.draw('mpl', reverse_bits=True)"
   ]
  },
  {
   "cell_type": "code",
   "execution_count": 14,
   "id": "84d6d46d",
   "metadata": {},
   "outputs": [
    {
     "data": {
      "text/latex": [
       "$$\n",
       "\n",
       "\\begin{bmatrix}\n",
       "\\frac{\\sqrt{2}}{2} & 0 & 0 & \\frac{\\sqrt{2}}{2}  \\\\\n",
       " \\end{bmatrix}\n",
       "$$"
      ],
      "text/plain": [
       "<IPython.core.display.Latex object>"
      ]
     },
     "execution_count": 14,
     "metadata": {},
     "output_type": "execute_result"
    }
   ],
   "source": [
    "# Print the state\n",
    "array_to_latex(GetStateVector(qc))"
   ]
  },
  {
   "cell_type": "markdown",
   "id": "cef0e977",
   "metadata": {},
   "source": [
    "## $ \\ket{\\Phi^-} $"
   ]
  },
  {
   "cell_type": "code",
   "execution_count": 15,
   "id": "f7333d18",
   "metadata": {},
   "outputs": [
    {
     "data": {
      "image/png": "[encoded data removed]",
      "text/plain": [
       "<Figure size 370.906x200.667 with 1 Axes>"
      ]
     },
     "execution_count": 15,
     "metadata": {},
     "output_type": "execute_result"
    }
   ],
   "source": [
    "# Create a QuantumCircuit with 2 qubits\n",
    "qc = QuantumCircuit(2)\n",
    "\n",
    "# Apply Quantum Gates\n",
    "qc.x(1)\n",
    "qc.h(1)\n",
    "qc.cx(1, 0)\n",
    "\n",
    "#Display circuit\n",
    "qc.draw('mpl', reverse_bits=True)"
   ]
  },
  {
   "cell_type": "code",
   "execution_count": 16,
   "id": "950a1753",
   "metadata": {},
   "outputs": [
    {
     "data": {
      "text/latex": [
       "$$\n",
       "\n",
       "\\begin{bmatrix}\n",
       "\\frac{\\sqrt{2}}{2} & 0 & 0 & - \\frac{\\sqrt{2}}{2}  \\\\\n",
       " \\end{bmatrix}\n",
       "$$"
      ],
      "text/plain": [
       "<IPython.core.display.Latex object>"
      ]
     },
     "execution_count": 16,
     "metadata": {},
     "output_type": "execute_result"
    }
   ],
   "source": [
    "# Print the state\n",
    "array_to_latex(GetStateVector(qc))"
   ]
  },
  {
   "cell_type": "markdown",
   "id": "15b64388",
   "metadata": {},
   "source": [
    "## $ \\ket{\\Psi^+} $"
   ]
  },
  {
   "cell_type": "code",
   "execution_count": 17,
   "id": "31b1ba06",
   "metadata": {},
   "outputs": [
    {
     "data": {
      "image/png": "[encoded data removed]",
      "text/plain": [
       "<Figure size 287.294x200.667 with 1 Axes>"
      ]
     },
     "execution_count": 17,
     "metadata": {},
     "output_type": "execute_result"
    }
   ],
   "source": [
    "# Create a QuantumCircuit with 2 qubits\n",
    "qc = QuantumCircuit(2)\n",
    "\n",
    "# Apply Quantum Gates\n",
    "qc.x(0)\n",
    "qc.h(1)\n",
    "qc.cx(1, 0)\n",
    "\n",
    "#Display circuit\n",
    "qc.draw('mpl', reverse_bits=True)"
   ]
  },
  {
   "cell_type": "code",
   "execution_count": 18,
   "id": "121e4e79",
   "metadata": {},
   "outputs": [
    {
     "data": {
      "text/latex": [
       "$$\n",
       "\n",
       "\\begin{bmatrix}\n",
       "0 & \\frac{\\sqrt{2}}{2} & \\frac{\\sqrt{2}}{2} & 0  \\\\\n",
       " \\end{bmatrix}\n",
       "$$"
      ],
      "text/plain": [
       "<IPython.core.display.Latex object>"
      ]
     },
     "execution_count": 18,
     "metadata": {},
     "output_type": "execute_result"
    }
   ],
   "source": [
    "# Print the state\n",
    "array_to_latex(GetStateVector(qc))"
   ]
  },
  {
   "cell_type": "markdown",
   "id": "cf1c7bb6",
   "metadata": {},
   "source": [
    "## $ \\ket{\\Psi^-} $"
   ]
  },
  {
   "cell_type": "code",
   "execution_count": 19,
   "id": "e0597b03",
   "metadata": {},
   "outputs": [
    {
     "data": {
      "image/png": "[encoded data removed]",
      "text/plain": [
       "<Figure size 370.906x200.667 with 1 Axes>"
      ]
     },
     "execution_count": 19,
     "metadata": {},
     "output_type": "execute_result"
    }
   ],
   "source": [
    "# Create a QuantumCircuit with 2 qubits\n",
    "qc = QuantumCircuit(2)\n",
    "\n",
    "# Apply Quantum Gates\n",
    "qc.x(0)\n",
    "qc.x(1)\n",
    "qc.h(1)\n",
    "qc.cx(1, 0)\n",
    "\n",
    "#Display circuit\n",
    "qc.draw('mpl', reverse_bits=True)"
   ]
  },
  {
   "cell_type": "code",
   "execution_count": 20,
   "id": "931ca3f3",
   "metadata": {},
   "outputs": [
    {
     "data": {
      "text/latex": [
       "$$\n",
       "\n",
       "\\begin{bmatrix}\n",
       "0 & \\frac{\\sqrt{2}}{2} & - \\frac{\\sqrt{2}}{2} & 0  \\\\\n",
       " \\end{bmatrix}\n",
       "$$"
      ],
      "text/plain": [
       "<IPython.core.display.Latex object>"
      ]
     },
     "execution_count": 20,
     "metadata": {},
     "output_type": "execute_result"
    }
   ],
   "source": [
    "# Print the state\n",
    "array_to_latex(GetStateVector(qc))"
   ]
  },
  {
   "cell_type": "code",
   "execution_count": null,
   "id": "158fd874",
   "metadata": {},
   "outputs": [],
   "source": []
  }
 ],
 "metadata": {
  "kernelspec": {
   "display_name": "Python 3 (ipykernel)",
   "language": "python",
   "name": "python3"
  },
  "language_info": {
   "codemirror_mode": {
    "name": "ipython",
    "version": 3
   },
   "file_extension": ".py",
   "mimetype": "text/x-python",
   "name": "python",
   "nbconvert_exporter": "python",
   "pygments_lexer": "ipython3",
   "version": "3.9.17"
  }
 },
 "nbformat": 4,
 "nbformat_minor": 5
}
